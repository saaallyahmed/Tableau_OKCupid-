{
 "cells": [
  {
   "cell_type": "code",
   "execution_count": 1,
   "id": "8e813d5a",
   "metadata": {},
   "outputs": [],
   "source": [
    "import pandas as pd\n",
    "import numpy as np\n",
    "import os\n",
    "from matplotlib import pyplot as plt\n",
    "import seaborn as sns\n",
    "from scipy import stats\n",
    "import numpy as np\n",
    "import pandas as pd\n",
    "#import ggplot as ggplot\n",
    "from plotnine.data import economics"
   ]
  },
  {
   "cell_type": "code",
   "execution_count": 2,
   "id": "79220179",
   "metadata": {},
   "outputs": [
    {
     "data": {
      "text/plain": [
       "array(['doesn&rsquo;t have kids, but might want them', nan,\n",
       "       'doesn&rsquo;t want kids',\n",
       "       'doesn&rsquo;t have kids, but wants them',\n",
       "       'doesn&rsquo;t have kids', 'wants kids', 'has a kid', 'has kids',\n",
       "       'doesn&rsquo;t have kids, and doesn&rsquo;t want any',\n",
       "       'has kids, but doesn&rsquo;t want more',\n",
       "       'has a kid, but doesn&rsquo;t want more',\n",
       "       'has a kid, and wants more', 'has kids, and might want more',\n",
       "       'might want kids', 'has a kid, and might want more',\n",
       "       'has kids, and wants more'], dtype=object)"
      ]
     },
     "execution_count": 2,
     "metadata": {},
     "output_type": "execute_result"
    }
   ],
   "source": [
    "# Raw data file\n",
    "file_to_load = \"user_profiles.csv\"\n",
    "\n",
    "# Read purchasing file and store into pandas data frame\n",
    "working_df= pd.read_csv(file_to_load)\n",
    "\n",
    "working_df['offspring'].unique()\n"
   ]
  },
  {
   "cell_type": "code",
   "execution_count": 3,
   "id": "eccb8e0c",
   "metadata": {},
   "outputs": [
    {
     "data": {
      "text/html": [
       "<div>\n",
       "<style scoped>\n",
       "    .dataframe tbody tr th:only-of-type {\n",
       "        vertical-align: middle;\n",
       "    }\n",
       "\n",
       "    .dataframe tbody tr th {\n",
       "        vertical-align: top;\n",
       "    }\n",
       "\n",
       "    .dataframe thead th {\n",
       "        text-align: right;\n",
       "    }\n",
       "</style>\n",
       "<table border=\"1\" class=\"dataframe\">\n",
       "  <thead>\n",
       "    <tr style=\"text-align: right;\">\n",
       "      <th></th>\n",
       "      <th>Unnamed: 0</th>\n",
       "      <th>age</th>\n",
       "      <th>body_type</th>\n",
       "      <th>diet</th>\n",
       "      <th>drinks</th>\n",
       "      <th>drugs</th>\n",
       "      <th>education</th>\n",
       "      <th>ethnicity</th>\n",
       "      <th>height</th>\n",
       "      <th>income</th>\n",
       "      <th>...</th>\n",
       "      <th>location</th>\n",
       "      <th>offspring</th>\n",
       "      <th>orientation</th>\n",
       "      <th>pets</th>\n",
       "      <th>religion</th>\n",
       "      <th>sex</th>\n",
       "      <th>sign</th>\n",
       "      <th>smokes</th>\n",
       "      <th>speaks</th>\n",
       "      <th>status</th>\n",
       "    </tr>\n",
       "  </thead>\n",
       "  <tbody>\n",
       "    <tr>\n",
       "      <th>0</th>\n",
       "      <td>0</td>\n",
       "      <td>22</td>\n",
       "      <td>curvy</td>\n",
       "      <td>anything</td>\n",
       "      <td>rarely</td>\n",
       "      <td>never</td>\n",
       "      <td>declined to answer</td>\n",
       "      <td>asian, white</td>\n",
       "      <td>75.0</td>\n",
       "      <td>29592</td>\n",
       "      <td>...</td>\n",
       "      <td>south san francisco, california</td>\n",
       "      <td>does not have kids, but might want them</td>\n",
       "      <td>straight</td>\n",
       "      <td>likes dogs and likes cats</td>\n",
       "      <td>agnosticism and very serious about it</td>\n",
       "      <td>m</td>\n",
       "      <td>gemini</td>\n",
       "      <td>sometimes</td>\n",
       "      <td>english</td>\n",
       "      <td>single</td>\n",
       "    </tr>\n",
       "    <tr>\n",
       "      <th>1</th>\n",
       "      <td>1</td>\n",
       "      <td>35</td>\n",
       "      <td>average</td>\n",
       "      <td>anything</td>\n",
       "      <td>rarely</td>\n",
       "      <td>sometimes</td>\n",
       "      <td>college/university</td>\n",
       "      <td>white</td>\n",
       "      <td>70.0</td>\n",
       "      <td>48630</td>\n",
       "      <td>...</td>\n",
       "      <td>oakland, california</td>\n",
       "      <td>does not have kids, but might want them</td>\n",
       "      <td>straight</td>\n",
       "      <td>likes dogs and likes cats</td>\n",
       "      <td>agnosticism but not too serious about it</td>\n",
       "      <td>m</td>\n",
       "      <td>cancer</td>\n",
       "      <td>no</td>\n",
       "      <td>english (fluently), spanish (poorly), french (...</td>\n",
       "      <td>single</td>\n",
       "    </tr>\n",
       "    <tr>\n",
       "      <th>2</th>\n",
       "      <td>2</td>\n",
       "      <td>38</td>\n",
       "      <td>skinny</td>\n",
       "      <td>anything</td>\n",
       "      <td>rarely</td>\n",
       "      <td>declined to answer</td>\n",
       "      <td>masters program</td>\n",
       "      <td>declined to answer</td>\n",
       "      <td>68.0</td>\n",
       "      <td>60812</td>\n",
       "      <td>...</td>\n",
       "      <td>san francisco, california</td>\n",
       "      <td>declined to answer</td>\n",
       "      <td>straight</td>\n",
       "      <td>has cats</td>\n",
       "      <td>declined to answer</td>\n",
       "      <td>m</td>\n",
       "      <td>pisces but it doesn&amp;rsquo;t matter</td>\n",
       "      <td>no</td>\n",
       "      <td>english, french, c++</td>\n",
       "      <td>available</td>\n",
       "    </tr>\n",
       "    <tr>\n",
       "      <th>3</th>\n",
       "      <td>3</td>\n",
       "      <td>23</td>\n",
       "      <td>skinny</td>\n",
       "      <td>vegetarian</td>\n",
       "      <td>rarely</td>\n",
       "      <td>declined to answer</td>\n",
       "      <td>declined to answer</td>\n",
       "      <td>white</td>\n",
       "      <td>71.0</td>\n",
       "      <td>18578</td>\n",
       "      <td>...</td>\n",
       "      <td>berkeley, california</td>\n",
       "      <td>does not want kids</td>\n",
       "      <td>straight</td>\n",
       "      <td>likes cats</td>\n",
       "      <td>declined to answer</td>\n",
       "      <td>m</td>\n",
       "      <td>pisces</td>\n",
       "      <td>no</td>\n",
       "      <td>english, german (poorly)</td>\n",
       "      <td>single</td>\n",
       "    </tr>\n",
       "    <tr>\n",
       "      <th>4</th>\n",
       "      <td>4</td>\n",
       "      <td>29</td>\n",
       "      <td>athletic</td>\n",
       "      <td>declined to answer</td>\n",
       "      <td>rarely</td>\n",
       "      <td>never</td>\n",
       "      <td>college/university</td>\n",
       "      <td>asian, black, other</td>\n",
       "      <td>66.0</td>\n",
       "      <td>94691</td>\n",
       "      <td>...</td>\n",
       "      <td>san francisco, california</td>\n",
       "      <td>declined to answer</td>\n",
       "      <td>straight</td>\n",
       "      <td>likes dogs and likes cats</td>\n",
       "      <td>declined to answer</td>\n",
       "      <td>m</td>\n",
       "      <td>aquarius</td>\n",
       "      <td>no</td>\n",
       "      <td>english</td>\n",
       "      <td>single</td>\n",
       "    </tr>\n",
       "  </tbody>\n",
       "</table>\n",
       "<p>5 rows × 22 columns</p>\n",
       "</div>"
      ],
      "text/plain": [
       "   Unnamed: 0  age body_type                diet  drinks               drugs  \\\n",
       "0           0   22     curvy            anything  rarely               never   \n",
       "1           1   35   average            anything  rarely           sometimes   \n",
       "2           2   38    skinny            anything  rarely  declined to answer   \n",
       "3           3   23    skinny          vegetarian  rarely  declined to answer   \n",
       "4           4   29  athletic  declined to answer  rarely               never   \n",
       "\n",
       "            education            ethnicity height  income  ...  \\\n",
       "0  declined to answer         asian, white   75.0   29592  ...   \n",
       "1  college/university                white   70.0   48630  ...   \n",
       "2     masters program   declined to answer   68.0   60812  ...   \n",
       "3  declined to answer                white   71.0   18578  ...   \n",
       "4  college/university  asian, black, other   66.0   94691  ...   \n",
       "\n",
       "                          location                                offspring  \\\n",
       "0  south san francisco, california  does not have kids, but might want them   \n",
       "1              oakland, california  does not have kids, but might want them   \n",
       "2        san francisco, california                       declined to answer   \n",
       "3             berkeley, california                       does not want kids   \n",
       "4        san francisco, california                       declined to answer   \n",
       "\n",
       "  orientation                       pets  \\\n",
       "0    straight  likes dogs and likes cats   \n",
       "1    straight  likes dogs and likes cats   \n",
       "2    straight                   has cats   \n",
       "3    straight                 likes cats   \n",
       "4    straight  likes dogs and likes cats   \n",
       "\n",
       "                                   religion sex  \\\n",
       "0     agnosticism and very serious about it   m   \n",
       "1  agnosticism but not too serious about it   m   \n",
       "2                        declined to answer   m   \n",
       "3                        declined to answer   m   \n",
       "4                        declined to answer   m   \n",
       "\n",
       "                                 sign     smokes  \\\n",
       "0                              gemini  sometimes   \n",
       "1                              cancer         no   \n",
       "2  pisces but it doesn&rsquo;t matter         no   \n",
       "3                              pisces         no   \n",
       "4                            aquarius         no   \n",
       "\n",
       "                                              speaks     status  \n",
       "0                                            english     single  \n",
       "1  english (fluently), spanish (poorly), french (...     single  \n",
       "2                               english, french, c++  available  \n",
       "3                           english, german (poorly)     single  \n",
       "4                                            english     single  \n",
       "\n",
       "[5 rows x 22 columns]"
      ]
     },
     "execution_count": 3,
     "metadata": {},
     "output_type": "execute_result"
    }
   ],
   "source": [
    "working_df = working_df.astype(object).replace(np.nan, 'None')\n",
    "\n",
    "working_df = working_df.replace({'doesn&rsquo;t have kids, but might want them': 'does not have kids, but might want them',\n",
    "    'doesn&rsquo;t want kids': 'does not want kids',\n",
    "    'doesn&rsquo;t have kids, but wants them': 'does not have kids, but wants them',\n",
    "    'doesn&rsquo;t have kids': 'does not have kids',\n",
    "    'doesn&rsquo;t have kids, and doesn&rsquo;t want any': 'does not have kids, and does not want any',\n",
    "    'has kids, but doesn&rsquo;t want more': 'has kids, but does not want more',\n",
    "    'has a kid, but doesn&rsquo;t want more': 'has a kid, but does not want more',\n",
    "    'None': 'declined to answer',\n",
    "    'full figured': 'curvy',\n",
    "    'rather not say': 'declined to answer',\n",
    "    'jacked': 'athletic',\n",
    "    'thin': 'skinny',\n",
    "    'used up': 'overweight',\n",
    "    'declined to answer,little extra': 'declined to answer',\n",
    "    'a little extra' : 'curvy', 'strictly anything' : 'anything', 'mostly anything':'anything', 'mostly other': 'anything',\n",
    "    'strictly vegetarian': 'vegetarian', 'mostly vegetarian': 'vegetarian', 'strictly vegan': 'vegan', 'mostly vegan' : 'vegan',\n",
    "    'strictly other': 'other', 'mostly halal' : 'halal', 'strictly halal': 'halal', 'mostly kosher' : 'kosher', 'strictly kosher' : 'kosher',\n",
    "    'socially':'rarely', 'very often':'rarely', 'often':'rarely'})\n",
    "\n",
    "working_df.head()"
   ]
  },
  {
   "cell_type": "code",
   "execution_count": 4,
   "id": "44b726ae",
   "metadata": {},
   "outputs": [
    {
     "data": {
      "text/plain": [
       "array(['likes dogs and likes cats', 'has cats', 'likes cats',\n",
       "       'declined to answer', 'has dogs and likes cats',\n",
       "       'likes dogs and has cats', 'likes dogs and dislikes cats',\n",
       "       'has dogs', 'has dogs and dislikes cats', 'likes dogs',\n",
       "       'has dogs and has cats', 'dislikes dogs and has cats',\n",
       "       'dislikes dogs and dislikes cats', 'dislikes cats',\n",
       "       'dislikes dogs and likes cats', 'dislikes dogs'], dtype=object)"
      ]
     },
     "execution_count": 4,
     "metadata": {},
     "output_type": "execute_result"
    }
   ],
   "source": [
    "working_df['pets'].unique()"
   ]
  },
  {
   "cell_type": "code",
   "execution_count": 5,
   "id": "e45ab72d",
   "metadata": {},
   "outputs": [
    {
     "data": {
      "text/plain": [
       "array(['curvy', 'average', 'skinny', 'athletic', 'fit',\n",
       "       'declined to answer', 'overweight'], dtype=object)"
      ]
     },
     "execution_count": 5,
     "metadata": {},
     "output_type": "execute_result"
    }
   ],
   "source": [
    "working_df['body_type'].unique()"
   ]
  },
  {
   "cell_type": "code",
   "execution_count": 6,
   "id": "bf446e60",
   "metadata": {},
   "outputs": [
    {
     "data": {
      "text/plain": [
       "array(['never', 'sometimes', 'declined to answer', 'rarely'], dtype=object)"
      ]
     },
     "execution_count": 6,
     "metadata": {},
     "output_type": "execute_result"
    }
   ],
   "source": [
    "working_df['drugs'].unique()"
   ]
  },
  {
   "cell_type": "code",
   "execution_count": 7,
   "id": "002b1467",
   "metadata": {},
   "outputs": [
    {
     "data": {
      "text/plain": [
       "array(['rarely', 'not at all', 'declined to answer', 'desperately'],\n",
       "      dtype=object)"
      ]
     },
     "execution_count": 7,
     "metadata": {},
     "output_type": "execute_result"
    }
   ],
   "source": [
    "working_df['drinks'].unique()"
   ]
  },
  {
   "cell_type": "code",
   "execution_count": 8,
   "id": "312583ab",
   "metadata": {},
   "outputs": [
    {
     "data": {
      "text/plain": [
       "array(['anything', 'vegetarian', 'declined to answer', 'vegan', 'other',\n",
       "       'halal', 'kosher'], dtype=object)"
      ]
     },
     "execution_count": 8,
     "metadata": {},
     "output_type": "execute_result"
    }
   ],
   "source": [
    "working_df['diet'].unique()"
   ]
  },
  {
   "cell_type": "code",
   "execution_count": 9,
   "id": "113d964d",
   "metadata": {},
   "outputs": [
    {
     "data": {
      "text/plain": [
       "array(['straight', 'bisexual', 'gay'], dtype=object)"
      ]
     },
     "execution_count": 9,
     "metadata": {},
     "output_type": "execute_result"
    }
   ],
   "source": [
    "working_df['orientation'].unique()"
   ]
  },
  {
   "cell_type": "code",
   "execution_count": 10,
   "id": "28c81437",
   "metadata": {},
   "outputs": [
    {
     "name": "stdout",
     "output_type": "stream",
     "text": [
      "Index(['Unnamed: 0', 'age', 'body_type', 'diet', 'drinks', 'drugs',\n",
      "       'education', 'ethnicity', 'height', 'income', 'job', 'last_online',\n",
      "       'location', 'offspring', 'orientation', 'pets', 'religion', 'sex',\n",
      "       'sign', 'smokes', 'speaks', 'status'],\n",
      "      dtype='object')\n"
     ]
    }
   ],
   "source": [
    "print(working_df.columns)"
   ]
  },
  {
   "cell_type": "code",
   "execution_count": 11,
   "id": "dfed949f",
   "metadata": {},
   "outputs": [
    {
     "data": {
      "text/plain": [
       "Unnamed: 0     0\n",
       "age            0\n",
       "body_type      0\n",
       "diet           0\n",
       "drinks         0\n",
       "drugs          0\n",
       "education      0\n",
       "ethnicity      0\n",
       "height         0\n",
       "income         0\n",
       "job            0\n",
       "last_online    0\n",
       "location       0\n",
       "offspring      0\n",
       "orientation    0\n",
       "pets           0\n",
       "religion       0\n",
       "sex            0\n",
       "sign           0\n",
       "smokes         0\n",
       "speaks         0\n",
       "status         0\n",
       "dtype: int64"
      ]
     },
     "execution_count": 11,
     "metadata": {},
     "output_type": "execute_result"
    }
   ],
   "source": [
    "# to check the number of missing values in each column\n",
    "working_df.isna().sum()"
   ]
  },
  {
   "cell_type": "code",
   "execution_count": 12,
   "id": "98e2fb57",
   "metadata": {},
   "outputs": [
    {
     "data": {
      "text/plain": [
       "0         273\n",
       "63397       6\n",
       "32337       6\n",
       "19001       5\n",
       "39161       4\n",
       "         ... \n",
       "128766      1\n",
       "80546       1\n",
       "60944       1\n",
       "178163      1\n",
       "100804      1\n",
       "Name: income, Length: 50707, dtype: int64"
      ]
     },
     "execution_count": 12,
     "metadata": {},
     "output_type": "execute_result"
    }
   ],
   "source": [
    "# to count each value in the column 'income'\n",
    "working_df.income.value_counts()"
   ]
  },
  {
   "cell_type": "markdown",
   "id": "1fd9c0f7",
   "metadata": {},
   "source": [
    "# Religin"
   ]
  },
  {
   "cell_type": "code",
   "execution_count": 13,
   "id": "2759bb2e",
   "metadata": {},
   "outputs": [
    {
     "data": {
      "text/plain": [
       "array(['agnosticism and very serious about it',\n",
       "       'agnosticism but not too serious about it', 'declined to answer',\n",
       "       'atheism', 'christianity',\n",
       "       'christianity but not too serious about it',\n",
       "       'atheism and laughing about it',\n",
       "       'christianity and very serious about it', 'other', 'catholicism',\n",
       "       'catholicism but not too serious about it',\n",
       "       'catholicism and somewhat serious about it',\n",
       "       'agnosticism and somewhat serious about it',\n",
       "       'catholicism and laughing about it',\n",
       "       'agnosticism and laughing about it', 'agnosticism',\n",
       "       'atheism and somewhat serious about it',\n",
       "       'buddhism but not too serious about it',\n",
       "       'other but not too serious about it', 'buddhism',\n",
       "       'other and laughing about it',\n",
       "       'judaism but not too serious about it',\n",
       "       'buddhism and laughing about it',\n",
       "       'other and somewhat serious about it',\n",
       "       'other and very serious about it',\n",
       "       'hinduism but not too serious about it',\n",
       "       'atheism but not too serious about it', 'judaism',\n",
       "       'christianity and somewhat serious about it',\n",
       "       'hinduism and very serious about it',\n",
       "       'atheism and very serious about it',\n",
       "       'judaism and laughing about it',\n",
       "       'christianity and laughing about it',\n",
       "       'hinduism and laughing about it',\n",
       "       'buddhism and somewhat serious about it',\n",
       "       'islam and very serious about it', 'islam', 'hinduism',\n",
       "       'judaism and somewhat serious about it',\n",
       "       'catholicism and very serious about it',\n",
       "       'judaism and very serious about it',\n",
       "       'hinduism and somewhat serious about it',\n",
       "       'islam but not too serious about it',\n",
       "       'buddhism and very serious about it',\n",
       "       'islam and laughing about it',\n",
       "       'islam and somewhat serious about it'], dtype=object)"
      ]
     },
     "execution_count": 13,
     "metadata": {},
     "output_type": "execute_result"
    }
   ],
   "source": [
    "working_df['religion'].unique()"
   ]
  },
  {
   "cell_type": "code",
   "execution_count": 14,
   "id": "a31f4019",
   "metadata": {},
   "outputs": [
    {
     "data": {
      "text/plain": [
       "0         agnosticism\n",
       "1         agnosticism\n",
       "2            declined\n",
       "3            declined\n",
       "4            declined\n",
       "             ...     \n",
       "59941     catholicism\n",
       "59942     agnosticism\n",
       "59943    christianity\n",
       "59944     agnosticism\n",
       "59945     catholicism\n",
       "Name: religion_cleaned, Length: 59946, dtype: object"
      ]
     },
     "execution_count": 14,
     "metadata": {},
     "output_type": "execute_result"
    }
   ],
   "source": [
    "working_df['religion_cleaned'] = working_df.religion.str.split().str.get(0)\n",
    "working_df['religion_cleaned']\n"
   ]
  },
  {
   "cell_type": "code",
   "execution_count": 15,
   "id": "ed21e612",
   "metadata": {
    "scrolled": true
   },
   "outputs": [
    {
     "data": {
      "image/png": "[encoded data removed]",
      "text/plain": [
       "<Figure size 432x288 with 1 Axes>"
      ]
     },
     "metadata": {
      "needs_background": "light"
     },
     "output_type": "display_data"
    }
   ],
   "source": [
    "fig, ax = plt.subplots()\n",
    "ax = sns.countplot(data = working_df, y = 'religion_cleaned', palette = 'Set2')\n",
    "labels = [item.get_text() for item in ax.get_yticklabels()]\n",
    "ax.set_title(\"Cleaned Religion\", pad=10)\n",
    "ax.set_yticks(range(len(labels)))\n",
    "ax.set_yticklabels(labels, fontsize=10)\n",
    "plt.show()"
   ]
  },
  {
   "cell_type": "markdown",
   "id": "b0bfb867",
   "metadata": {},
   "source": [
    "# Sign"
   ]
  },
  {
   "cell_type": "code",
   "execution_count": 16,
   "id": "e1131738",
   "metadata": {},
   "outputs": [
    {
     "data": {
      "text/plain": [
       "array(['gemini', 'cancer', 'pisces but it doesn&rsquo;t matter', 'pisces',\n",
       "       'aquarius', 'taurus', 'virgo', 'sagittarius',\n",
       "       'gemini but it doesn&rsquo;t matter',\n",
       "       'cancer but it doesn&rsquo;t matter',\n",
       "       'leo but it doesn&rsquo;t matter', 'declined to answer',\n",
       "       'aquarius but it doesn&rsquo;t matter',\n",
       "       'aries and it&rsquo;s fun to think about',\n",
       "       'libra but it doesn&rsquo;t matter',\n",
       "       'pisces and it&rsquo;s fun to think about', 'libra',\n",
       "       'taurus but it doesn&rsquo;t matter',\n",
       "       'sagittarius but it doesn&rsquo;t matter',\n",
       "       'scorpio and it matters a lot',\n",
       "       'gemini and it&rsquo;s fun to think about',\n",
       "       'leo and it&rsquo;s fun to think about',\n",
       "       'cancer and it&rsquo;s fun to think about',\n",
       "       'libra and it&rsquo;s fun to think about',\n",
       "       'aquarius and it&rsquo;s fun to think about',\n",
       "       'virgo but it doesn&rsquo;t matter',\n",
       "       'scorpio and it&rsquo;s fun to think about',\n",
       "       'capricorn but it doesn&rsquo;t matter', 'scorpio',\n",
       "       'capricorn and it&rsquo;s fun to think about', 'leo',\n",
       "       'aries but it doesn&rsquo;t matter', 'aries',\n",
       "       'scorpio but it doesn&rsquo;t matter',\n",
       "       'sagittarius and it&rsquo;s fun to think about',\n",
       "       'libra and it matters a lot',\n",
       "       'taurus and it&rsquo;s fun to think about',\n",
       "       'leo and it matters a lot',\n",
       "       'virgo and it&rsquo;s fun to think about',\n",
       "       'cancer and it matters a lot', 'capricorn',\n",
       "       'pisces and it matters a lot', 'aries and it matters a lot',\n",
       "       'capricorn and it matters a lot', 'aquarius and it matters a lot',\n",
       "       'sagittarius and it matters a lot', 'gemini and it matters a lot',\n",
       "       'taurus and it matters a lot', 'virgo and it matters a lot'],\n",
       "      dtype=object)"
      ]
     },
     "execution_count": 16,
     "metadata": {},
     "output_type": "execute_result"
    }
   ],
   "source": [
    "working_df['sign'].unique()"
   ]
  },
  {
   "cell_type": "code",
   "execution_count": 17,
   "id": "74ac4bcf",
   "metadata": {},
   "outputs": [
    {
     "data": {
      "text/plain": [
       "0             gemini\n",
       "1             cancer\n",
       "2             pisces\n",
       "3             pisces\n",
       "4           aquarius\n",
       "            ...     \n",
       "59941         cancer\n",
       "59942            leo\n",
       "59943    sagittarius\n",
       "59944            leo\n",
       "59945         gemini\n",
       "Name: sign_cleaned, Length: 59946, dtype: object"
      ]
     },
     "execution_count": 17,
     "metadata": {},
     "output_type": "execute_result"
    }
   ],
   "source": [
    "working_df['sign_cleaned'] = working_df.sign.str.split().str.get(0)\n",
    "working_df['sign_cleaned'] "
   ]
  },
  {
   "cell_type": "code",
   "execution_count": 18,
   "id": "75432241",
   "metadata": {},
   "outputs": [
    {
     "data": {
      "image/png": "[encoded data removed]",
      "text/plain": [
       "<Figure size 432x288 with 1 Axes>"
      ]
     },
     "metadata": {
      "needs_background": "light"
     },
     "output_type": "display_data"
    }
   ],
   "source": [
    "fig, ax = plt.subplots()\n",
    "ax = sns.countplot(data = working_df, y = 'sign_cleaned', palette = 'Set3')\n",
    "labels = [item.get_text() for item in ax.get_yticklabels()]\n",
    "ax.set_title(\"Cleaned Sign\", pad=10)\n",
    "ax.set_yticks(range(len(labels)))\n",
    "ax.set_yticklabels(labels, fontsize=10)\n",
    "plt.show()"
   ]
  },
  {
   "cell_type": "code",
   "execution_count": 19,
   "id": "666ba499",
   "metadata": {},
   "outputs": [
    {
     "data": {
      "text/html": [
       "<div>\n",
       "<style scoped>\n",
       "    .dataframe tbody tr th:only-of-type {\n",
       "        vertical-align: middle;\n",
       "    }\n",
       "\n",
       "    .dataframe tbody tr th {\n",
       "        vertical-align: top;\n",
       "    }\n",
       "\n",
       "    .dataframe thead th {\n",
       "        text-align: right;\n",
       "    }\n",
       "</style>\n",
       "<table border=\"1\" class=\"dataframe\">\n",
       "  <thead>\n",
       "    <tr style=\"text-align: right;\">\n",
       "      <th></th>\n",
       "      <th>Unnamed: 0</th>\n",
       "      <th>age</th>\n",
       "      <th>body_type</th>\n",
       "      <th>diet</th>\n",
       "      <th>drinks</th>\n",
       "      <th>drugs</th>\n",
       "      <th>education</th>\n",
       "      <th>ethnicity</th>\n",
       "      <th>height</th>\n",
       "      <th>income</th>\n",
       "      <th>...</th>\n",
       "      <th>orientation</th>\n",
       "      <th>pets</th>\n",
       "      <th>religion</th>\n",
       "      <th>sex</th>\n",
       "      <th>sign</th>\n",
       "      <th>smokes</th>\n",
       "      <th>speaks</th>\n",
       "      <th>status</th>\n",
       "      <th>religion_cleaned</th>\n",
       "      <th>sign_cleaned</th>\n",
       "    </tr>\n",
       "  </thead>\n",
       "  <tbody>\n",
       "    <tr>\n",
       "      <th>0</th>\n",
       "      <td>0</td>\n",
       "      <td>22</td>\n",
       "      <td>curvy</td>\n",
       "      <td>anything</td>\n",
       "      <td>rarely</td>\n",
       "      <td>never</td>\n",
       "      <td>declined to answer</td>\n",
       "      <td>asian, white</td>\n",
       "      <td>75.0</td>\n",
       "      <td>29592</td>\n",
       "      <td>...</td>\n",
       "      <td>straight</td>\n",
       "      <td>likes dogs and likes cats</td>\n",
       "      <td>agnosticism and very serious about it</td>\n",
       "      <td>m</td>\n",
       "      <td>gemini</td>\n",
       "      <td>sometimes</td>\n",
       "      <td>english</td>\n",
       "      <td>single</td>\n",
       "      <td>agnosticism</td>\n",
       "      <td>gemini</td>\n",
       "    </tr>\n",
       "    <tr>\n",
       "      <th>1</th>\n",
       "      <td>1</td>\n",
       "      <td>35</td>\n",
       "      <td>average</td>\n",
       "      <td>anything</td>\n",
       "      <td>rarely</td>\n",
       "      <td>sometimes</td>\n",
       "      <td>college/university</td>\n",
       "      <td>white</td>\n",
       "      <td>70.0</td>\n",
       "      <td>48630</td>\n",
       "      <td>...</td>\n",
       "      <td>straight</td>\n",
       "      <td>likes dogs and likes cats</td>\n",
       "      <td>agnosticism but not too serious about it</td>\n",
       "      <td>m</td>\n",
       "      <td>cancer</td>\n",
       "      <td>no</td>\n",
       "      <td>english (fluently), spanish (poorly), french (...</td>\n",
       "      <td>single</td>\n",
       "      <td>agnosticism</td>\n",
       "      <td>cancer</td>\n",
       "    </tr>\n",
       "    <tr>\n",
       "      <th>2</th>\n",
       "      <td>2</td>\n",
       "      <td>38</td>\n",
       "      <td>skinny</td>\n",
       "      <td>anything</td>\n",
       "      <td>rarely</td>\n",
       "      <td>declined to answer</td>\n",
       "      <td>masters program</td>\n",
       "      <td>declined to answer</td>\n",
       "      <td>68.0</td>\n",
       "      <td>60812</td>\n",
       "      <td>...</td>\n",
       "      <td>straight</td>\n",
       "      <td>has cats</td>\n",
       "      <td>declined to answer</td>\n",
       "      <td>m</td>\n",
       "      <td>pisces but it doesn&amp;rsquo;t matter</td>\n",
       "      <td>no</td>\n",
       "      <td>english, french, c++</td>\n",
       "      <td>available</td>\n",
       "      <td>declined</td>\n",
       "      <td>pisces</td>\n",
       "    </tr>\n",
       "    <tr>\n",
       "      <th>3</th>\n",
       "      <td>3</td>\n",
       "      <td>23</td>\n",
       "      <td>skinny</td>\n",
       "      <td>vegetarian</td>\n",
       "      <td>rarely</td>\n",
       "      <td>declined to answer</td>\n",
       "      <td>declined to answer</td>\n",
       "      <td>white</td>\n",
       "      <td>71.0</td>\n",
       "      <td>18578</td>\n",
       "      <td>...</td>\n",
       "      <td>straight</td>\n",
       "      <td>likes cats</td>\n",
       "      <td>declined to answer</td>\n",
       "      <td>m</td>\n",
       "      <td>pisces</td>\n",
       "      <td>no</td>\n",
       "      <td>english, german (poorly)</td>\n",
       "      <td>single</td>\n",
       "      <td>declined</td>\n",
       "      <td>pisces</td>\n",
       "    </tr>\n",
       "    <tr>\n",
       "      <th>4</th>\n",
       "      <td>4</td>\n",
       "      <td>29</td>\n",
       "      <td>athletic</td>\n",
       "      <td>declined to answer</td>\n",
       "      <td>rarely</td>\n",
       "      <td>never</td>\n",
       "      <td>college/university</td>\n",
       "      <td>asian, black, other</td>\n",
       "      <td>66.0</td>\n",
       "      <td>94691</td>\n",
       "      <td>...</td>\n",
       "      <td>straight</td>\n",
       "      <td>likes dogs and likes cats</td>\n",
       "      <td>declined to answer</td>\n",
       "      <td>m</td>\n",
       "      <td>aquarius</td>\n",
       "      <td>no</td>\n",
       "      <td>english</td>\n",
       "      <td>single</td>\n",
       "      <td>declined</td>\n",
       "      <td>aquarius</td>\n",
       "    </tr>\n",
       "  </tbody>\n",
       "</table>\n",
       "<p>5 rows × 24 columns</p>\n",
       "</div>"
      ],
      "text/plain": [
       "   Unnamed: 0  age body_type                diet  drinks               drugs  \\\n",
       "0           0   22     curvy            anything  rarely               never   \n",
       "1           1   35   average            anything  rarely           sometimes   \n",
       "2           2   38    skinny            anything  rarely  declined to answer   \n",
       "3           3   23    skinny          vegetarian  rarely  declined to answer   \n",
       "4           4   29  athletic  declined to answer  rarely               never   \n",
       "\n",
       "            education            ethnicity height  income  ... orientation  \\\n",
       "0  declined to answer         asian, white   75.0   29592  ...    straight   \n",
       "1  college/university                white   70.0   48630  ...    straight   \n",
       "2     masters program   declined to answer   68.0   60812  ...    straight   \n",
       "3  declined to answer                white   71.0   18578  ...    straight   \n",
       "4  college/university  asian, black, other   66.0   94691  ...    straight   \n",
       "\n",
       "                        pets                                  religion sex  \\\n",
       "0  likes dogs and likes cats     agnosticism and very serious about it   m   \n",
       "1  likes dogs and likes cats  agnosticism but not too serious about it   m   \n",
       "2                   has cats                        declined to answer   m   \n",
       "3                 likes cats                        declined to answer   m   \n",
       "4  likes dogs and likes cats                        declined to answer   m   \n",
       "\n",
       "                                 sign     smokes  \\\n",
       "0                              gemini  sometimes   \n",
       "1                              cancer         no   \n",
       "2  pisces but it doesn&rsquo;t matter         no   \n",
       "3                              pisces         no   \n",
       "4                            aquarius         no   \n",
       "\n",
       "                                              speaks     status  \\\n",
       "0                                            english     single   \n",
       "1  english (fluently), spanish (poorly), french (...     single   \n",
       "2                               english, french, c++  available   \n",
       "3                           english, german (poorly)     single   \n",
       "4                                            english     single   \n",
       "\n",
       "  religion_cleaned sign_cleaned  \n",
       "0      agnosticism       gemini  \n",
       "1      agnosticism       cancer  \n",
       "2         declined       pisces  \n",
       "3         declined       pisces  \n",
       "4         declined     aquarius  \n",
       "\n",
       "[5 rows x 24 columns]"
      ]
     },
     "execution_count": 19,
     "metadata": {},
     "output_type": "execute_result"
    }
   ],
   "source": [
    "working_df.head()"
   ]
  },
  {
   "cell_type": "markdown",
   "id": "078166e0",
   "metadata": {},
   "source": [
    "# Body Type"
   ]
  },
  {
   "cell_type": "code",
   "execution_count": 20,
   "id": "7167e445",
   "metadata": {},
   "outputs": [
    {
     "data": {
      "image/png": "[encoded data removed]",
      "text/plain": [
       "<Figure size 432x288 with 1 Axes>"
      ]
     },
     "metadata": {
      "needs_background": "light"
     },
     "output_type": "display_data"
    }
   ],
   "source": [
    "working_df['body_type'] = working_df.body_type.str.split().str.get(0)\n",
    "fig, ax = plt.subplots()\n",
    "ax = sns.countplot(data = working_df, y = 'body_type', palette = 'Set2')\n",
    "labels = [item.get_text() for item in ax.get_yticklabels()]\n",
    "ax.set_title(\"Body Type\", pad=10)\n",
    "ax.set_yticks(range(len(labels)))\n",
    "ax.set_yticklabels(labels, fontsize=10)\n",
    "plt.show()\n"
   ]
  },
  {
   "cell_type": "code",
   "execution_count": 21,
   "id": "1668ae81",
   "metadata": {},
   "outputs": [],
   "source": [
    "#Orientation in percentage\n",
    "def show_percentage(plot, feature):\n",
    "    total = len(feature)\n",
    "    for p in ax.patches:\n",
    "        percentage = '{:.1f}%'.format(100 * p.get_height()/total)\n",
    "        x = p.get_x()+p.get_width()/2-0.1\n",
    "        y = p.get_y()+p.get_height()\n",
    "        ax.annotate(percentage, (x, y), size=10)\n",
    "\n",
    "def show_percentage2(plot, feature):\n",
    "    total = len(feature)\n",
    "    for p in ax.patches:\n",
    "        percentage = '{:.1f}%'.format(100 * p.get_width()/total)\n",
    "        x = p.get_x() + p.get_width() + 0.02\n",
    "        y = p.get_y() + p.get_height()/2\n",
    "        ax.annotate(percentage, (x, y), size=10, va=\"center\")"
   ]
  },
  {
   "cell_type": "code",
   "execution_count": 22,
   "id": "3a07d00d",
   "metadata": {},
   "outputs": [
    {
     "data": {
      "image/png": "[encoded data removed]",
      "text/plain": [
       "<Figure size 792x504 with 1 Axes>"
      ]
     },
     "metadata": {
      "needs_background": "light"
     },
     "output_type": "display_data"
    }
   ],
   "source": [
    "#Body type plot\n",
    "plt.figure(figsize=(11, 7))\n",
    "ax = sns.countplot(x='body_type', data=working_df,\n",
    "hue='sex',\n",
    "palette='rocket',\n",
    "order=working_df['body_type'].value_counts().iloc[:10].index)\n",
    "# order= [\"athletic\", \"fit\", \"curvy\", \"a little extra\", \"full figured\", \"skinny\", \"thin\", \"average\", \"overweight\", \"declined to answer\"])\n",
    "ax.set_title(\"Body type by gender\")\n",
    "ax.set(xlabel='Count', ylabel='Body Type')\n",
    "show_percentage(ax, working_df)\n",
    "plt.xticks(rotation = 25)\n",
    "plt.tight_layout()\n",
    "plt.show()"
   ]
  },
  {
   "cell_type": "markdown",
   "id": "c5f8181b",
   "metadata": {},
   "source": [
    "# Diet"
   ]
  },
  {
   "cell_type": "code",
   "execution_count": 23,
   "id": "d634b41d",
   "metadata": {},
   "outputs": [
    {
     "data": {
      "text/plain": [
       "Unnamed: 0           int64\n",
       "age                  int64\n",
       "body_type           object\n",
       "diet                object\n",
       "drinks              object\n",
       "drugs               object\n",
       "education           object\n",
       "ethnicity           object\n",
       "height              object\n",
       "income               int64\n",
       "job                 object\n",
       "last_online         object\n",
       "location            object\n",
       "offspring           object\n",
       "orientation         object\n",
       "pets                object\n",
       "religion            object\n",
       "sex                 object\n",
       "sign                object\n",
       "smokes              object\n",
       "speaks              object\n",
       "status              object\n",
       "religion_cleaned    object\n",
       "sign_cleaned        object\n",
       "dtype: object"
      ]
     },
     "execution_count": 23,
     "metadata": {},
     "output_type": "execute_result"
    }
   ],
   "source": [
    "working_df.dtypes"
   ]
  },
  {
   "cell_type": "code",
   "execution_count": 24,
   "id": "e72c3f52",
   "metadata": {},
   "outputs": [
    {
     "data": {
      "text/plain": [
       "array(['anything', 'vegetarian', 'declined to answer', 'vegan', 'other',\n",
       "       'halal', 'kosher'], dtype=object)"
      ]
     },
     "execution_count": 24,
     "metadata": {},
     "output_type": "execute_result"
    }
   ],
   "source": [
    "working_df['diet'].unique()"
   ]
  },
  {
   "cell_type": "code",
   "execution_count": 25,
   "id": "06b354ec",
   "metadata": {},
   "outputs": [
    {
     "data": {
      "image/png": "[encoded data removed]",
      "text/plain": [
       "<Figure size 792x360 with 1 Axes>"
      ]
     },
     "metadata": {
      "needs_background": "light"
     },
     "output_type": "display_data"
    }
   ],
   "source": [
    "#Different diets by gender. Represent using suitable graph\n",
    "plt.figure(figsize=(11, 5))\n",
    "ax = sns.countplot(x='diet', data=working_df,\n",
    "hue='sex', palette='Paired',\n",
    "order = working_df['diet'].value_counts().iloc[:10].index)\n",
    "plt.xticks(rotation = 30)\n",
    "ax.set_title(\"Diet by Gender\")\n",
    "show_percentage(ax, working_df)"
   ]
  },
  {
   "cell_type": "code",
   "execution_count": 26,
   "id": "0b46e071",
   "metadata": {},
   "outputs": [
    {
     "data": {
      "image/png": "[encoded data removed]",
      "text/plain": [
       "<Figure size 648x504 with 1 Axes>"
      ]
     },
     "metadata": {
      "needs_background": "light"
     },
     "output_type": "display_data"
    }
   ],
   "source": [
    "# Compare jobs of males and females. Represent using suitable graphs\n",
    "plt.figure(figsize=(9, 7))\n",
    "ax = sns.countplot(y='job', data= working_df,\n",
    "hue='sex', palette='Reds',\n",
    "order = working_df['job'].value_counts().iloc[:10].index)\n",
    "show_percentage2(ax, working_df)\n",
    "plt.show()"
   ]
  },
  {
   "cell_type": "code",
   "execution_count": 27,
   "id": "5d1f468a",
   "metadata": {},
   "outputs": [
    {
     "data": {
      "text/html": [
       "<div>\n",
       "<style scoped>\n",
       "    .dataframe tbody tr th:only-of-type {\n",
       "        vertical-align: middle;\n",
       "    }\n",
       "\n",
       "    .dataframe tbody tr th {\n",
       "        vertical-align: top;\n",
       "    }\n",
       "\n",
       "    .dataframe thead th {\n",
       "        text-align: right;\n",
       "    }\n",
       "</style>\n",
       "<table border=\"1\" class=\"dataframe\">\n",
       "  <thead>\n",
       "    <tr style=\"text-align: right;\">\n",
       "      <th></th>\n",
       "      <th>Unnamed: 0</th>\n",
       "      <th>age</th>\n",
       "      <th>body_type</th>\n",
       "      <th>diet</th>\n",
       "      <th>drinks</th>\n",
       "      <th>drugs</th>\n",
       "      <th>education</th>\n",
       "      <th>ethnicity</th>\n",
       "      <th>height</th>\n",
       "      <th>income</th>\n",
       "      <th>...</th>\n",
       "      <th>orientation</th>\n",
       "      <th>pets</th>\n",
       "      <th>religion</th>\n",
       "      <th>sex</th>\n",
       "      <th>sign</th>\n",
       "      <th>smokes</th>\n",
       "      <th>speaks</th>\n",
       "      <th>status</th>\n",
       "      <th>religion_cleaned</th>\n",
       "      <th>sign_cleaned</th>\n",
       "    </tr>\n",
       "  </thead>\n",
       "  <tbody>\n",
       "    <tr>\n",
       "      <th>0</th>\n",
       "      <td>0</td>\n",
       "      <td>22</td>\n",
       "      <td>curvy</td>\n",
       "      <td>anything</td>\n",
       "      <td>rarely</td>\n",
       "      <td>never</td>\n",
       "      <td>declined to answer</td>\n",
       "      <td>asian, white</td>\n",
       "      <td>75.0</td>\n",
       "      <td>29592</td>\n",
       "      <td>...</td>\n",
       "      <td>straight</td>\n",
       "      <td>likes dogs and likes cats</td>\n",
       "      <td>agnosticism and very serious about it</td>\n",
       "      <td>m</td>\n",
       "      <td>gemini</td>\n",
       "      <td>sometimes</td>\n",
       "      <td>english</td>\n",
       "      <td>single</td>\n",
       "      <td>agnosticism</td>\n",
       "      <td>gemini</td>\n",
       "    </tr>\n",
       "    <tr>\n",
       "      <th>1</th>\n",
       "      <td>1</td>\n",
       "      <td>35</td>\n",
       "      <td>average</td>\n",
       "      <td>anything</td>\n",
       "      <td>rarely</td>\n",
       "      <td>sometimes</td>\n",
       "      <td>college/university</td>\n",
       "      <td>white</td>\n",
       "      <td>70.0</td>\n",
       "      <td>48630</td>\n",
       "      <td>...</td>\n",
       "      <td>straight</td>\n",
       "      <td>likes dogs and likes cats</td>\n",
       "      <td>agnosticism but not too serious about it</td>\n",
       "      <td>m</td>\n",
       "      <td>cancer</td>\n",
       "      <td>no</td>\n",
       "      <td>english (fluently), spanish (poorly), french (...</td>\n",
       "      <td>single</td>\n",
       "      <td>agnosticism</td>\n",
       "      <td>cancer</td>\n",
       "    </tr>\n",
       "    <tr>\n",
       "      <th>2</th>\n",
       "      <td>2</td>\n",
       "      <td>38</td>\n",
       "      <td>skinny</td>\n",
       "      <td>anything</td>\n",
       "      <td>rarely</td>\n",
       "      <td>declined to answer</td>\n",
       "      <td>masters program</td>\n",
       "      <td>declined to answer</td>\n",
       "      <td>68.0</td>\n",
       "      <td>60812</td>\n",
       "      <td>...</td>\n",
       "      <td>straight</td>\n",
       "      <td>has cats</td>\n",
       "      <td>declined to answer</td>\n",
       "      <td>m</td>\n",
       "      <td>pisces but it doesn&amp;rsquo;t matter</td>\n",
       "      <td>no</td>\n",
       "      <td>english, french, c++</td>\n",
       "      <td>available</td>\n",
       "      <td>declined</td>\n",
       "      <td>pisces</td>\n",
       "    </tr>\n",
       "    <tr>\n",
       "      <th>3</th>\n",
       "      <td>3</td>\n",
       "      <td>23</td>\n",
       "      <td>skinny</td>\n",
       "      <td>vegetarian</td>\n",
       "      <td>rarely</td>\n",
       "      <td>declined to answer</td>\n",
       "      <td>declined to answer</td>\n",
       "      <td>white</td>\n",
       "      <td>71.0</td>\n",
       "      <td>18578</td>\n",
       "      <td>...</td>\n",
       "      <td>straight</td>\n",
       "      <td>likes cats</td>\n",
       "      <td>declined to answer</td>\n",
       "      <td>m</td>\n",
       "      <td>pisces</td>\n",
       "      <td>no</td>\n",
       "      <td>english, german (poorly)</td>\n",
       "      <td>single</td>\n",
       "      <td>declined</td>\n",
       "      <td>pisces</td>\n",
       "    </tr>\n",
       "    <tr>\n",
       "      <th>4</th>\n",
       "      <td>4</td>\n",
       "      <td>29</td>\n",
       "      <td>athletic</td>\n",
       "      <td>declined to answer</td>\n",
       "      <td>rarely</td>\n",
       "      <td>never</td>\n",
       "      <td>college/university</td>\n",
       "      <td>asian, black, other</td>\n",
       "      <td>66.0</td>\n",
       "      <td>94691</td>\n",
       "      <td>...</td>\n",
       "      <td>straight</td>\n",
       "      <td>likes dogs and likes cats</td>\n",
       "      <td>declined to answer</td>\n",
       "      <td>m</td>\n",
       "      <td>aquarius</td>\n",
       "      <td>no</td>\n",
       "      <td>english</td>\n",
       "      <td>single</td>\n",
       "      <td>declined</td>\n",
       "      <td>aquarius</td>\n",
       "    </tr>\n",
       "  </tbody>\n",
       "</table>\n",
       "<p>5 rows × 24 columns</p>\n",
       "</div>"
      ],
      "text/plain": [
       "   Unnamed: 0  age body_type                diet  drinks               drugs  \\\n",
       "0           0   22     curvy            anything  rarely               never   \n",
       "1           1   35   average            anything  rarely           sometimes   \n",
       "2           2   38    skinny            anything  rarely  declined to answer   \n",
       "3           3   23    skinny          vegetarian  rarely  declined to answer   \n",
       "4           4   29  athletic  declined to answer  rarely               never   \n",
       "\n",
       "            education            ethnicity height  income  ... orientation  \\\n",
       "0  declined to answer         asian, white   75.0   29592  ...    straight   \n",
       "1  college/university                white   70.0   48630  ...    straight   \n",
       "2     masters program   declined to answer   68.0   60812  ...    straight   \n",
       "3  declined to answer                white   71.0   18578  ...    straight   \n",
       "4  college/university  asian, black, other   66.0   94691  ...    straight   \n",
       "\n",
       "                        pets                                  religion sex  \\\n",
       "0  likes dogs and likes cats     agnosticism and very serious about it   m   \n",
       "1  likes dogs and likes cats  agnosticism but not too serious about it   m   \n",
       "2                   has cats                        declined to answer   m   \n",
       "3                 likes cats                        declined to answer   m   \n",
       "4  likes dogs and likes cats                        declined to answer   m   \n",
       "\n",
       "                                 sign     smokes  \\\n",
       "0                              gemini  sometimes   \n",
       "1                              cancer         no   \n",
       "2  pisces but it doesn&rsquo;t matter         no   \n",
       "3                              pisces         no   \n",
       "4                            aquarius         no   \n",
       "\n",
       "                                              speaks     status  \\\n",
       "0                                            english     single   \n",
       "1  english (fluently), spanish (poorly), french (...     single   \n",
       "2                               english, french, c++  available   \n",
       "3                           english, german (poorly)     single   \n",
       "4                                            english     single   \n",
       "\n",
       "  religion_cleaned sign_cleaned  \n",
       "0      agnosticism       gemini  \n",
       "1      agnosticism       cancer  \n",
       "2         declined       pisces  \n",
       "3         declined       pisces  \n",
       "4         declined     aquarius  \n",
       "\n",
       "[5 rows x 24 columns]"
      ]
     },
     "execution_count": 27,
     "metadata": {},
     "output_type": "execute_result"
    }
   ],
   "source": [
    "working_df.head()"
   ]
  },
  {
   "cell_type": "code",
   "execution_count": 28,
   "id": "2d759e73",
   "metadata": {},
   "outputs": [],
   "source": [
    "working_df.to_csv('OKcupid_cleaned_up.csv', index=False)"
   ]
  }
 ],
 "metadata": {
  "kernelspec": {
   "display_name": "Python 3 (ipykernel)",
   "language": "python",
   "name": "python3"
  },
  "language_info": {
   "codemirror_mode": {
    "name": "ipython",
    "version": 3
   },
   "file_extension": ".py",
   "mimetype": "text/x-python",
   "name": "python",
   "nbconvert_exporter": "python",
   "pygments_lexer": "ipython3",
   "version": "3.9.7"
  }
 },
 "nbformat": 4,
 "nbformat_minor": 5
}
